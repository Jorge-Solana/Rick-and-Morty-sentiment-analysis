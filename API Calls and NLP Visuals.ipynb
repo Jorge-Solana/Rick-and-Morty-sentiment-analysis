{
 "cells": [
  {
   "cell_type": "code",
   "execution_count": 3,
   "id": "d09689fd",
   "metadata": {},
   "outputs": [],
   "source": [
    "import pandas as pd\n",
    "import numpy as np\n",
    "import seaborn as sns\n",
    "from matplotlib import pyplot as plt\n",
    "import requests"
   ]
  },
  {
   "cell_type": "markdown",
   "id": "49b7f148",
   "metadata": {},
   "source": [
    "## First we are going to make all the posible calls to our API"
   ]
  },
  {
   "cell_type": "markdown",
   "id": "ac5d25a0",
   "metadata": {},
   "source": [
    "#### We are going to stock all the calls as variables and transform them into a data frame"
   ]
  },
  {
   "cell_type": "markdown",
   "id": "cb47f663",
   "metadata": {},
   "source": [
    "All the characters:"
   ]
  },
  {
   "cell_type": "code",
   "execution_count": 9,
   "id": "83a33c33",
   "metadata": {},
   "outputs": [],
   "source": [
    "char = requests.get('http://127.0.0.1:5000/characters')"
   ]
  },
  {
   "cell_type": "code",
   "execution_count": 13,
   "id": "17314c68",
   "metadata": {},
   "outputs": [
    {
     "data": {
      "text/html": [
       "<div>\n",
       "<style scoped>\n",
       "    .dataframe tbody tr th:only-of-type {\n",
       "        vertical-align: middle;\n",
       "    }\n",
       "\n",
       "    .dataframe tbody tr th {\n",
       "        vertical-align: top;\n",
       "    }\n",
       "\n",
       "    .dataframe thead th {\n",
       "        text-align: right;\n",
       "    }\n",
       "</style>\n",
       "<table border=\"1\" class=\"dataframe\">\n",
       "  <thead>\n",
       "    <tr style=\"text-align: right;\">\n",
       "      <th></th>\n",
       "      <th>idCharacter</th>\n",
       "      <th>Character_name</th>\n",
       "    </tr>\n",
       "  </thead>\n",
       "  <tbody>\n",
       "    <tr>\n",
       "      <th>0</th>\n",
       "      <td>33</td>\n",
       "      <td>Agency Director</td>\n",
       "    </tr>\n",
       "    <tr>\n",
       "      <th>1</th>\n",
       "      <td>35</td>\n",
       "      <td>Alan</td>\n",
       "    </tr>\n",
       "    <tr>\n",
       "      <th>2</th>\n",
       "      <td>27</td>\n",
       "      <td>Alien Doctor</td>\n",
       "    </tr>\n",
       "    <tr>\n",
       "      <th>3</th>\n",
       "      <td>17</td>\n",
       "      <td>All Mortys</td>\n",
       "    </tr>\n",
       "    <tr>\n",
       "      <th>4</th>\n",
       "      <td>14</td>\n",
       "      <td>All Ricks</td>\n",
       "    </tr>\n",
       "  </tbody>\n",
       "</table>\n",
       "</div>"
      ],
      "text/plain": [
       "   idCharacter   Character_name\n",
       "0           33  Agency Director\n",
       "1           35             Alan\n",
       "2           27     Alien Doctor\n",
       "3           17       All Mortys\n",
       "4           14        All Ricks"
      ]
     },
     "execution_count": 13,
     "metadata": {},
     "output_type": "execute_result"
    }
   ],
   "source": [
    "df_char = pd.DataFrame(char.json())\n",
    "df_char.head()"
   ]
  },
  {
   "cell_type": "markdown",
   "id": "120e095b",
   "metadata": {},
   "source": [
    "All the phrases:"
   ]
  },
  {
   "cell_type": "code",
   "execution_count": 14,
   "id": "cc392903",
   "metadata": {},
   "outputs": [
    {
     "data": {
      "text/html": [
       "<div>\n",
       "<style scoped>\n",
       "    .dataframe tbody tr th:only-of-type {\n",
       "        vertical-align: middle;\n",
       "    }\n",
       "\n",
       "    .dataframe tbody tr th {\n",
       "        vertical-align: top;\n",
       "    }\n",
       "\n",
       "    .dataframe thead th {\n",
       "        text-align: right;\n",
       "    }\n",
       "</style>\n",
       "<table border=\"1\" class=\"dataframe\">\n",
       "  <thead>\n",
       "    <tr style=\"text-align: right;\">\n",
       "      <th></th>\n",
       "      <th>idPhrase</th>\n",
       "      <th>Phrase</th>\n",
       "      <th>Character_idCharacter</th>\n",
       "      <th>Episode_idEpisode</th>\n",
       "    </tr>\n",
       "  </thead>\n",
       "  <tbody>\n",
       "    <tr>\n",
       "      <th>0</th>\n",
       "      <td>1</td>\n",
       "      <td>Morty! You gotta come on. Jus ... you gotta co...</td>\n",
       "      <td>1</td>\n",
       "      <td>1</td>\n",
       "    </tr>\n",
       "    <tr>\n",
       "      <th>1</th>\n",
       "      <td>2</td>\n",
       "      <td>What, Rick? What’s going on?</td>\n",
       "      <td>2</td>\n",
       "      <td>1</td>\n",
       "    </tr>\n",
       "    <tr>\n",
       "      <th>2</th>\n",
       "      <td>3</td>\n",
       "      <td>I got a surprise for you, Morty.</td>\n",
       "      <td>1</td>\n",
       "      <td>1</td>\n",
       "    </tr>\n",
       "    <tr>\n",
       "      <th>3</th>\n",
       "      <td>4</td>\n",
       "      <td>It s the middle of the night. What are you tal...</td>\n",
       "      <td>2</td>\n",
       "      <td>1</td>\n",
       "    </tr>\n",
       "    <tr>\n",
       "      <th>4</th>\n",
       "      <td>5</td>\n",
       "      <td>Come on, I got a surprise for you.  Come on, h...</td>\n",
       "      <td>1</td>\n",
       "      <td>1</td>\n",
       "    </tr>\n",
       "  </tbody>\n",
       "</table>\n",
       "</div>"
      ],
      "text/plain": [
       "   idPhrase                                             Phrase  \\\n",
       "0         1  Morty! You gotta come on. Jus ... you gotta co...   \n",
       "1         2                       What, Rick? What’s going on?   \n",
       "2         3                   I got a surprise for you, Morty.   \n",
       "3         4  It s the middle of the night. What are you tal...   \n",
       "4         5  Come on, I got a surprise for you.  Come on, h...   \n",
       "\n",
       "   Character_idCharacter  Episode_idEpisode  \n",
       "0                      1                  1  \n",
       "1                      2                  1  \n",
       "2                      1                  1  \n",
       "3                      2                  1  \n",
       "4                      1                  1  "
      ]
     },
     "execution_count": 14,
     "metadata": {},
     "output_type": "execute_result"
    }
   ],
   "source": [
    "phr = requests.get('http://127.0.0.1:5000/phrases')\n",
    "df_phr = pd.DataFrame(phr.json())\n",
    "df_phr.head()"
   ]
  },
  {
   "cell_type": "markdown",
   "id": "0dc50d6f",
   "metadata": {},
   "source": [
    "All the episodes:"
   ]
  },
  {
   "cell_type": "code",
   "execution_count": 15,
   "id": "1b4e0935",
   "metadata": {},
   "outputs": [
    {
     "data": {
      "text/html": [
       "<div>\n",
       "<style scoped>\n",
       "    .dataframe tbody tr th:only-of-type {\n",
       "        vertical-align: middle;\n",
       "    }\n",
       "\n",
       "    .dataframe tbody tr th {\n",
       "        vertical-align: top;\n",
       "    }\n",
       "\n",
       "    .dataframe thead th {\n",
       "        text-align: right;\n",
       "    }\n",
       "</style>\n",
       "<table border=\"1\" class=\"dataframe\">\n",
       "  <thead>\n",
       "    <tr style=\"text-align: right;\">\n",
       "      <th></th>\n",
       "      <th>idEpisode</th>\n",
       "      <th>Episode_name</th>\n",
       "    </tr>\n",
       "  </thead>\n",
       "  <tbody>\n",
       "    <tr>\n",
       "      <th>0</th>\n",
       "      <td>1</td>\n",
       "      <td>Pilot</td>\n",
       "    </tr>\n",
       "    <tr>\n",
       "      <th>1</th>\n",
       "      <td>2</td>\n",
       "      <td>Lawnmower Dog</td>\n",
       "    </tr>\n",
       "    <tr>\n",
       "      <th>2</th>\n",
       "      <td>3</td>\n",
       "      <td>Rick Potion 9</td>\n",
       "    </tr>\n",
       "    <tr>\n",
       "      <th>3</th>\n",
       "      <td>4</td>\n",
       "      <td>A Rickle in Time</td>\n",
       "    </tr>\n",
       "    <tr>\n",
       "      <th>4</th>\n",
       "      <td>5</td>\n",
       "      <td>The Wedding Squanchers</td>\n",
       "    </tr>\n",
       "  </tbody>\n",
       "</table>\n",
       "</div>"
      ],
      "text/plain": [
       "   idEpisode            Episode_name\n",
       "0          1                   Pilot\n",
       "1          2           Lawnmower Dog\n",
       "2          3           Rick Potion 9\n",
       "3          4        A Rickle in Time\n",
       "4          5  The Wedding Squanchers"
      ]
     },
     "execution_count": 15,
     "metadata": {},
     "output_type": "execute_result"
    }
   ],
   "source": [
    "ep = requests.get('http://127.0.0.1:5000/episodes')\n",
    "df_ep = pd.DataFrame(ep.json())\n",
    "df_ep.head()"
   ]
  },
  {
   "cell_type": "markdown",
   "id": "6566bb6a",
   "metadata": {},
   "source": [
    "All the phrases of a given episode:"
   ]
  },
  {
   "cell_type": "code",
   "execution_count": 70,
   "id": "fc2568d3",
   "metadata": {},
   "outputs": [
    {
     "data": {
      "text/html": [
       "<div>\n",
       "<style scoped>\n",
       "    .dataframe tbody tr th:only-of-type {\n",
       "        vertical-align: middle;\n",
       "    }\n",
       "\n",
       "    .dataframe tbody tr th {\n",
       "        vertical-align: top;\n",
       "    }\n",
       "\n",
       "    .dataframe thead th {\n",
       "        text-align: right;\n",
       "    }\n",
       "</style>\n",
       "<table border=\"1\" class=\"dataframe\">\n",
       "  <thead>\n",
       "    <tr style=\"text-align: right;\">\n",
       "      <th></th>\n",
       "      <th>Episode_name</th>\n",
       "      <th>phrase</th>\n",
       "    </tr>\n",
       "  </thead>\n",
       "  <tbody>\n",
       "    <tr>\n",
       "      <th>0</th>\n",
       "      <td>Pilot</td>\n",
       "      <td>Morty! You gotta come on. Jus ... you gotta co...</td>\n",
       "    </tr>\n",
       "    <tr>\n",
       "      <th>1</th>\n",
       "      <td>Pilot</td>\n",
       "      <td>What, Rick? What’s going on?</td>\n",
       "    </tr>\n",
       "    <tr>\n",
       "      <th>2</th>\n",
       "      <td>Pilot</td>\n",
       "      <td>I got a surprise for you, Morty.</td>\n",
       "    </tr>\n",
       "    <tr>\n",
       "      <th>3</th>\n",
       "      <td>Pilot</td>\n",
       "      <td>It s the middle of the night. What are you tal...</td>\n",
       "    </tr>\n",
       "    <tr>\n",
       "      <th>4</th>\n",
       "      <td>Pilot</td>\n",
       "      <td>Come on, I got a surprise for you.  Come on, h...</td>\n",
       "    </tr>\n",
       "  </tbody>\n",
       "</table>\n",
       "</div>"
      ],
      "text/plain": [
       "  Episode_name                                             phrase\n",
       "0        Pilot  Morty! You gotta come on. Jus ... you gotta co...\n",
       "1        Pilot                       What, Rick? What’s going on?\n",
       "2        Pilot                   I got a surprise for you, Morty.\n",
       "3        Pilot  It s the middle of the night. What are you tal...\n",
       "4        Pilot  Come on, I got a surprise for you.  Come on, h..."
      ]
     },
     "execution_count": 70,
     "metadata": {},
     "output_type": "execute_result"
    }
   ],
   "source": [
    "phr_ep = requests.get(f'http://127.0.0.1:5000/phrases_ep?episode=Pilot')\n",
    "df_phr_ep = pd.DataFrame(phr_ep.json())\n",
    "df_phr_ep.head()"
   ]
  },
  {
   "cell_type": "markdown",
   "id": "9be16bcc",
   "metadata": {},
   "source": [
    "All the phrases of a given character:"
   ]
  },
  {
   "cell_type": "code",
   "execution_count": 18,
   "id": "b056c508",
   "metadata": {},
   "outputs": [
    {
     "data": {
      "text/html": [
       "<div>\n",
       "<style scoped>\n",
       "    .dataframe tbody tr th:only-of-type {\n",
       "        vertical-align: middle;\n",
       "    }\n",
       "\n",
       "    .dataframe tbody tr th {\n",
       "        vertical-align: top;\n",
       "    }\n",
       "\n",
       "    .dataframe thead th {\n",
       "        text-align: right;\n",
       "    }\n",
       "</style>\n",
       "<table border=\"1\" class=\"dataframe\">\n",
       "  <thead>\n",
       "    <tr style=\"text-align: right;\">\n",
       "      <th></th>\n",
       "      <th>Character_name</th>\n",
       "      <th>phrase</th>\n",
       "    </tr>\n",
       "  </thead>\n",
       "  <tbody>\n",
       "    <tr>\n",
       "      <th>0</th>\n",
       "      <td>Rick</td>\n",
       "      <td>Morty! You gotta come on. Jus ... you gotta co...</td>\n",
       "    </tr>\n",
       "    <tr>\n",
       "      <th>1</th>\n",
       "      <td>Rick</td>\n",
       "      <td>I got a surprise for you, Morty.</td>\n",
       "    </tr>\n",
       "    <tr>\n",
       "      <th>2</th>\n",
       "      <td>Rick</td>\n",
       "      <td>Come on, I got a surprise for you.  Come on, h...</td>\n",
       "    </tr>\n",
       "    <tr>\n",
       "      <th>3</th>\n",
       "      <td>Rick</td>\n",
       "      <td>We gotta go, gotta get outta here, come on. Go...</td>\n",
       "    </tr>\n",
       "    <tr>\n",
       "      <th>4</th>\n",
       "      <td>Rick</td>\n",
       "      <td>What do you think of this... flying vehicle, M...</td>\n",
       "    </tr>\n",
       "  </tbody>\n",
       "</table>\n",
       "</div>"
      ],
      "text/plain": [
       "  Character_name                                             phrase\n",
       "0           Rick  Morty! You gotta come on. Jus ... you gotta co...\n",
       "1           Rick                   I got a surprise for you, Morty.\n",
       "2           Rick  Come on, I got a surprise for you.  Come on, h...\n",
       "3           Rick  We gotta go, gotta get outta here, come on. Go...\n",
       "4           Rick  What do you think of this... flying vehicle, M..."
      ]
     },
     "execution_count": 18,
     "metadata": {},
     "output_type": "execute_result"
    }
   ],
   "source": [
    "phr_char = requests.get('http://127.0.0.1:5000/phrases/Rick')\n",
    "df_phr_char = pd.DataFrame(phr_char.json())\n",
    "df_phr_char.head()"
   ]
  },
  {
   "cell_type": "markdown",
   "id": "1d0342b1",
   "metadata": {},
   "source": [
    "#### Now we are going to add some new data with the post method:"
   ]
  },
  {
   "cell_type": "markdown",
   "id": "d60f5895",
   "metadata": {},
   "source": [
    "- First we create a dictionary for the insertion (it is specified in the documentation)"
   ]
  },
  {
   "cell_type": "code",
   "execution_count": 20,
   "id": "bb9606fd",
   "metadata": {},
   "outputs": [],
   "source": [
    "data = {\n",
    "    'character': 'Jorge',\n",
    "    'episode': 'Jorge ended up loving SQL',\n",
    "    'phrase': 'Oh wow, this is exciting...when it works'\n",
    "}"
   ]
  },
  {
   "cell_type": "code",
   "execution_count": 22,
   "id": "6e53fbbe",
   "metadata": {},
   "outputs": [],
   "source": [
    "posting = requests.post('http://127.0.0.1:5000/newdata', data=data)"
   ]
  },
  {
   "cell_type": "code",
   "execution_count": 24,
   "id": "23ebad32",
   "metadata": {},
   "outputs": [
    {
     "data": {
      "text/plain": [
       "<Response [200]>"
      ]
     },
     "execution_count": 24,
     "metadata": {},
     "output_type": "execute_result"
    }
   ],
   "source": [
    "posting #to check if it is done"
   ]
  },
  {
   "cell_type": "markdown",
   "id": "c15e5aa3",
   "metadata": {},
   "source": [
    "#### Lastsly, we move onto the NLP endpoints:"
   ]
  },
  {
   "cell_type": "markdown",
   "id": "63306046",
   "metadata": {},
   "source": [
    "Global sentiment analysis, the gerenal polarity of Rick and Morty's season 1:"
   ]
  },
  {
   "cell_type": "code",
   "execution_count": 28,
   "id": "175aa2ec",
   "metadata": {},
   "outputs": [],
   "source": [
    "global_sentiment = requests.get('http://127.0.0.1:5000/sentiment')"
   ]
  },
  {
   "cell_type": "code",
   "execution_count": 30,
   "id": "0d305b5c",
   "metadata": {},
   "outputs": [
    {
     "data": {
      "text/plain": [
       "b'0.04419167704978638'"
      ]
     },
     "execution_count": 30,
     "metadata": {},
     "output_type": "execute_result"
    }
   ],
   "source": [
    "global_sentiment.content"
   ]
  },
  {
   "cell_type": "markdown",
   "id": "f506af9b",
   "metadata": {},
   "source": [
    "Polarity of a given character throughout the season 1:\n",
    "- lets do all of them because we want to do some graphs later on\n",
    "    - Rick, Morty, Beth, Summer, Jerry"
   ]
  },
  {
   "cell_type": "code",
   "execution_count": 84,
   "id": "4ccf2824",
   "metadata": {},
   "outputs": [
    {
     "data": {
      "text/plain": [
       "0.04388320203071882"
      ]
     },
     "execution_count": 84,
     "metadata": {},
     "output_type": "execute_result"
    }
   ],
   "source": [
    "rick_sentiment = requests.get('http://127.0.0.1:5000/phrases/Rick/sentiment')\n",
    "rick = rick_sentiment.json()\n",
    "rick"
   ]
  },
  {
   "cell_type": "code",
   "execution_count": 85,
   "id": "15d5cf5e",
   "metadata": {},
   "outputs": [
    {
     "data": {
      "text/plain": [
       "0.04152290740787451"
      ]
     },
     "execution_count": 85,
     "metadata": {},
     "output_type": "execute_result"
    }
   ],
   "source": [
    "morty_sentiment = requests.get('http://127.0.0.1:5000/phrases/Morty/sentiment')\n",
    "morty = morty_sentiment.json()\n",
    "morty"
   ]
  },
  {
   "cell_type": "code",
   "execution_count": 86,
   "id": "e3bb9a83",
   "metadata": {},
   "outputs": [
    {
     "data": {
      "text/plain": [
       "0.045752145581691016"
      ]
     },
     "execution_count": 86,
     "metadata": {},
     "output_type": "execute_result"
    }
   ],
   "source": [
    "beth_sentiment = requests.get('http://127.0.0.1:5000/phrases/Beth/sentiment')\n",
    "beth = beth_sentiment.json()\n",
    "beth"
   ]
  },
  {
   "cell_type": "code",
   "execution_count": 89,
   "id": "d43f5454",
   "metadata": {},
   "outputs": [
    {
     "data": {
      "text/plain": [
       "0.06696694659242372"
      ]
     },
     "execution_count": 89,
     "metadata": {},
     "output_type": "execute_result"
    }
   ],
   "source": [
    "jerry_sentiment = requests.get('http://127.0.0.1:5000/phrases/Jerry/sentiment')\n",
    "jerry = jerry_sentiment.json()\n",
    "jerry"
   ]
  },
  {
   "cell_type": "code",
   "execution_count": 87,
   "id": "8811cd0a",
   "metadata": {},
   "outputs": [
    {
     "data": {
      "text/plain": [
       "0.021907981229824014"
      ]
     },
     "execution_count": 87,
     "metadata": {},
     "output_type": "execute_result"
    }
   ],
   "source": [
    "summer_sentiment = requests.get('http://127.0.0.1:5000/phrases/Summer/sentiment')\n",
    "summer = summer_sentiment.json()\n",
    "summer"
   ]
  },
  {
   "cell_type": "markdown",
   "id": "4be629f5",
   "metadata": {},
   "source": [
    "Polarity of a given episode:\n",
    "- we are going to do a call for every episode\n",
    "\n",
    "- let's write a function to do this, as well as a for loop iterting through the list of episodesand appending all the values to a list"
   ]
  },
  {
   "cell_type": "code",
   "execution_count": 78,
   "id": "f39ff451",
   "metadata": {},
   "outputs": [],
   "source": [
    "def call_ep(episode):\n",
    "    '''\n",
    "    Calls the API for the polarity of a given episode\n",
    "    Args:\n",
    "        episode(str)\n",
    "    Returns\n",
    "        json: the polarity value\n",
    "    '''\n",
    "    sentiment = requests.get(f'http://127.0.0.1:5000/phrases_ep/sentiment?episode={episode}')\n",
    "    return sentiment.json()"
   ]
  },
  {
   "cell_type": "code",
   "execution_count": 38,
   "id": "b2728a85",
   "metadata": {},
   "outputs": [],
   "source": [
    "episodes_list = ['Pilot', 'Lawnmower Dog', 'Rick Potion 9', 'A Rickle in Time', 'The Wedding Squanchers', 'Get Schwifty', 'Interdimensional Cable 2  Tempting Fate', 'The Rickshank Rickdemption', 'Pickle Rick', 'Vindicators 3  The Return of Worldender', 'Tales From the Citadel']"
   ]
  },
  {
   "cell_type": "code",
   "execution_count": 76,
   "id": "46923938",
   "metadata": {},
   "outputs": [],
   "source": [
    "list_ = []\n",
    "for i in episodes_list:\n",
    "    ep = call_ep(i)\n",
    "    list_.append(ep)"
   ]
  },
  {
   "cell_type": "code",
   "execution_count": 77,
   "id": "fe954496",
   "metadata": {},
   "outputs": [
    {
     "data": {
      "text/plain": [
       "[0.05496653042564951,\n",
       " 0.00609888783393385,\n",
       " 0.12013266417678181,\n",
       " 0.052057930495430504,\n",
       " 0.10729166666666667,\n",
       " 0.05908174063026703,\n",
       " 0.06321481717687075,\n",
       " 0.01908642974758224,\n",
       " 0.016319403450085267,\n",
       " 0.055405328798185945,\n",
       " 0.049539473684210536]"
      ]
     },
     "execution_count": 77,
     "metadata": {},
     "output_type": "execute_result"
    }
   ],
   "source": [
    "list_"
   ]
  },
  {
   "cell_type": "markdown",
   "id": "f247743a",
   "metadata": {},
   "source": [
    "# Let's plot all the data to make some conclussions"
   ]
  },
  {
   "cell_type": "markdown",
   "id": "1443623a",
   "metadata": {},
   "source": [
    "### We are going to do this by using the alredy created data frames or by creating new ones"
   ]
  },
  {
   "cell_type": "markdown",
   "id": "f9dd2570",
   "metadata": {},
   "source": [
    "First we create a data frame containig the polarity of each character through all season 1"
   ]
  },
  {
   "cell_type": "code",
   "execution_count": 98,
   "id": "5f55f8db",
   "metadata": {},
   "outputs": [],
   "source": [
    "characters = ['Rick', 'Morty', 'Beth', 'Jerry', 'Summer']\n",
    "sents = [rick, morty, beth, jerry, summer]\n",
    "char_sents = {'character':characters,\n",
    "             'polarity':sents}"
   ]
  },
  {
   "cell_type": "code",
   "execution_count": 99,
   "id": "26b785f5",
   "metadata": {},
   "outputs": [
    {
     "data": {
      "text/html": [
       "<div>\n",
       "<style scoped>\n",
       "    .dataframe tbody tr th:only-of-type {\n",
       "        vertical-align: middle;\n",
       "    }\n",
       "\n",
       "    .dataframe tbody tr th {\n",
       "        vertical-align: top;\n",
       "    }\n",
       "\n",
       "    .dataframe thead th {\n",
       "        text-align: right;\n",
       "    }\n",
       "</style>\n",
       "<table border=\"1\" class=\"dataframe\">\n",
       "  <thead>\n",
       "    <tr style=\"text-align: right;\">\n",
       "      <th></th>\n",
       "      <th>character</th>\n",
       "      <th>polarity</th>\n",
       "    </tr>\n",
       "  </thead>\n",
       "  <tbody>\n",
       "    <tr>\n",
       "      <th>0</th>\n",
       "      <td>Rick</td>\n",
       "      <td>0.043883</td>\n",
       "    </tr>\n",
       "    <tr>\n",
       "      <th>1</th>\n",
       "      <td>Morty</td>\n",
       "      <td>0.041523</td>\n",
       "    </tr>\n",
       "    <tr>\n",
       "      <th>2</th>\n",
       "      <td>Beth</td>\n",
       "      <td>0.045752</td>\n",
       "    </tr>\n",
       "    <tr>\n",
       "      <th>3</th>\n",
       "      <td>Jerry</td>\n",
       "      <td>0.066967</td>\n",
       "    </tr>\n",
       "    <tr>\n",
       "      <th>4</th>\n",
       "      <td>Summer</td>\n",
       "      <td>0.021908</td>\n",
       "    </tr>\n",
       "  </tbody>\n",
       "</table>\n",
       "</div>"
      ],
      "text/plain": [
       "  character  polarity\n",
       "0      Rick  0.043883\n",
       "1     Morty  0.041523\n",
       "2      Beth  0.045752\n",
       "3     Jerry  0.066967\n",
       "4    Summer  0.021908"
      ]
     },
     "execution_count": 99,
     "metadata": {},
     "output_type": "execute_result"
    }
   ],
   "source": [
    "df_char_sents = pd.DataFrame(char_sents)\n",
    "df_char_sents"
   ]
  },
  {
   "cell_type": "markdown",
   "id": "c56369a8",
   "metadata": {},
   "source": [
    "Now we create another data frame containing the polarity of each episode of the season 1"
   ]
  },
  {
   "cell_type": "code",
   "execution_count": 100,
   "id": "21b5a201",
   "metadata": {},
   "outputs": [
    {
     "data": {
      "text/html": [
       "<div>\n",
       "<style scoped>\n",
       "    .dataframe tbody tr th:only-of-type {\n",
       "        vertical-align: middle;\n",
       "    }\n",
       "\n",
       "    .dataframe tbody tr th {\n",
       "        vertical-align: top;\n",
       "    }\n",
       "\n",
       "    .dataframe thead th {\n",
       "        text-align: right;\n",
       "    }\n",
       "</style>\n",
       "<table border=\"1\" class=\"dataframe\">\n",
       "  <thead>\n",
       "    <tr style=\"text-align: right;\">\n",
       "      <th></th>\n",
       "      <th>episode</th>\n",
       "      <th>polarity</th>\n",
       "    </tr>\n",
       "  </thead>\n",
       "  <tbody>\n",
       "    <tr>\n",
       "      <th>0</th>\n",
       "      <td>Pilot</td>\n",
       "      <td>0.054967</td>\n",
       "    </tr>\n",
       "    <tr>\n",
       "      <th>1</th>\n",
       "      <td>Lawnmower Dog</td>\n",
       "      <td>0.006099</td>\n",
       "    </tr>\n",
       "    <tr>\n",
       "      <th>2</th>\n",
       "      <td>Rick Potion 9</td>\n",
       "      <td>0.120133</td>\n",
       "    </tr>\n",
       "    <tr>\n",
       "      <th>3</th>\n",
       "      <td>A Rickle in Time</td>\n",
       "      <td>0.052058</td>\n",
       "    </tr>\n",
       "    <tr>\n",
       "      <th>4</th>\n",
       "      <td>The Wedding Squanchers</td>\n",
       "      <td>0.107292</td>\n",
       "    </tr>\n",
       "  </tbody>\n",
       "</table>\n",
       "</div>"
      ],
      "text/plain": [
       "                  episode  polarity\n",
       "0                   Pilot  0.054967\n",
       "1           Lawnmower Dog  0.006099\n",
       "2           Rick Potion 9  0.120133\n",
       "3        A Rickle in Time  0.052058\n",
       "4  The Wedding Squanchers  0.107292"
      ]
     },
     "execution_count": 100,
     "metadata": {},
     "output_type": "execute_result"
    }
   ],
   "source": [
    "ep_sents = {'episode':episodes_list,\n",
    "           'polarity': list_}\n",
    "df_ep_sents = pd.DataFrame(ep_sents)\n",
    "df_ep_sents.head()"
   ]
  },
  {
   "cell_type": "markdown",
   "id": "e9a15210",
   "metadata": {},
   "source": [
    "### Now its time to plot!"
   ]
  },
  {
   "cell_type": "code",
   "execution_count": 102,
   "id": "87428891",
   "metadata": {},
   "outputs": [
    {
     "data": {
      "image/png": "[encoded data removed]",
      "text/plain": [
       "<Figure size 432x288 with 1 Axes>"
      ]
     },
     "metadata": {
      "needs_background": "light"
     },
     "output_type": "display_data"
    }
   ],
   "source": [
    "sns.barplot(data=df_char_sents, x=df_char_sents.character, y=df_char_sents.polarity);"
   ]
  },
  {
   "cell_type": "markdown",
   "id": "5bb35e47",
   "metadata": {},
   "source": [
    "We can easily say that Jerry is the most positive character of the 5 main characters.\n",
    "\n",
    "Summer is the most negative person."
   ]
  },
  {
   "cell_type": "code",
   "execution_count": 114,
   "id": "65a06ccf",
   "metadata": {},
   "outputs": [
    {
     "data": {
      "image/png": "[encoded data removed]",
      "text/plain": [
       "<Figure size 432x288 with 1 Axes>"
      ]
     },
     "metadata": {
      "needs_background": "light"
     },
     "output_type": "display_data"
    }
   ],
   "source": [
    "ax = sns.barplot(data=df_ep_sents, x=df_ep_sents.episode, y=df_ep_sents.polarity)\n",
    "ax.set_xticklabels(ax.get_xticklabels(), rotation = 90);"
   ]
  },
  {
   "cell_type": "markdown",
   "id": "6dab5fa8",
   "metadata": {},
   "source": [
    "The most positive episode is 'Rick Potion 9' and the most negative is 'Lawnmower Dog'"
   ]
  },
  {
   "cell_type": "code",
   "execution_count": 119,
   "id": "8ef3eb76",
   "metadata": {},
   "outputs": [
    {
     "name": "stderr",
     "output_type": "stream",
     "text": [
      "<ipython-input-119-544e0e5d31f5>:2: UserWarning: FixedFormatter should only be used together with FixedLocator\n",
      "  ax2.set_xticklabels(ax2.get_xticklabels(), rotation = 0);\n"
     ]
    },
    {
     "data": {
      "image/png": "[encoded data removed]",
      "text/plain": [
       "<Figure size 432x288 with 1 Axes>"
      ]
     },
     "metadata": {
      "needs_background": "light"
     },
     "output_type": "display_data"
    }
   ],
   "source": [
    "ax2 = sns.lineplot(data=df_ep_sents, x=df_ep_sents.episode, y=df_ep_sents.polarity)\n",
    "ax2.set_xticklabels(ax2.get_xticklabels(), rotation = 0);"
   ]
  },
  {
   "cell_type": "markdown",
   "id": "d4926f95",
   "metadata": {},
   "source": [
    "Here we just observe the evolution of the polarity throghout the first season"
   ]
  },
  {
   "cell_type": "markdown",
   "id": "a5aa69ce",
   "metadata": {},
   "source": [
    "# FINAL CONCLUSSIONS"
   ]
  },
  {
   "cell_type": "markdown",
   "id": "228af56a",
   "metadata": {},
   "source": [
    "As we can see, Rick and Morty's season one is not as dramatic as we could've thought in the first place.\n",
    "\n",
    "The polarity is a number which goes between -1 and 1, and as we can observe it never gets bellow 0, neither for the episodes or the characters.\n",
    "\n",
    "As concluded before Jerry is the most positive character amongst the five main characters and Sumer is the least positive character.\n",
    "\n",
    "Episode wise talking, again, as conclude before the episode called 'Rick Potion 9' is the most positive episode and 'Lawnmower Dog' is the least positive one, almost being neutral.\n",
    "\n",
    "#### Does this make any sense?\n",
    "\n",
    "- If we know a little bit about Rick and Morty we may say that this is quite correct. Summer is a very low and not very positive person, as well as Jerry although being a 'beaten-up' person, he may be the most positive person due to his innocence way of talking."
   ]
  },
  {
   "cell_type": "markdown",
   "id": "8c4c2aea",
   "metadata": {},
   "source": [
    "The polarity throughout the season one does not follow a regular pattern, this meaning starting low and ending high or viceversa.\n",
    "\n",
    "It just has a middle season high and then it goes back to 'normal', kind of were it started."
   ]
  },
  {
   "cell_type": "code",
   "execution_count": null,
   "id": "b32d41e0",
   "metadata": {},
   "outputs": [],
   "source": []
  }
 ],
 "metadata": {
  "kernelspec": {
   "display_name": "Python 3",
   "language": "python",
   "name": "python3"
  },
  "language_info": {
   "codemirror_mode": {
    "name": "ipython",
    "version": 3
   },
   "file_extension": ".py",
   "mimetype": "text/x-python",
   "name": "python",
   "nbconvert_exporter": "python",
   "pygments_lexer": "ipython3",
   "version": "3.8.8"
  }
 },
 "nbformat": 4,
 "nbformat_minor": 5
}
